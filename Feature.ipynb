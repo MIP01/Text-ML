{
 "cells": [
  {
   "cell_type": "code",
   "execution_count": 1,
   "metadata": {},
   "outputs": [],
   "source": [
    "import pandas as pd \n",
    "import numpy as np"
   ]
  },
  {
   "cell_type": "code",
   "execution_count": 15,
   "metadata": {},
   "outputs": [
    {
     "data": {
      "text/html": [
       "<div>\n",
       "<style scoped>\n",
       "    .dataframe tbody tr th:only-of-type {\n",
       "        vertical-align: middle;\n",
       "    }\n",
       "\n",
       "    .dataframe tbody tr th {\n",
       "        vertical-align: top;\n",
       "    }\n",
       "\n",
       "    .dataframe thead th {\n",
       "        text-align: right;\n",
       "    }\n",
       "</style>\n",
       "<table border=\"1\" class=\"dataframe\">\n",
       "  <thead>\n",
       "    <tr style=\"text-align: right;\">\n",
       "      <th></th>\n",
       "      <th>kategori</th>\n",
       "      <th>komentar</th>\n",
       "    </tr>\n",
       "  </thead>\n",
       "  <tbody>\n",
       "    <tr>\n",
       "      <th>0</th>\n",
       "      <td>Non-bullying</td>\n",
       "      <td>['kakak', 'tidur', 'sudah', 'pagi', 'tidak bol...</td>\n",
       "    </tr>\n",
       "    <tr>\n",
       "      <th>1</th>\n",
       "      <td>Non-bullying</td>\n",
       "      <td>['makan', 'nasi', 'padang', 'saja', 'badan']</td>\n",
       "    </tr>\n",
       "    <tr>\n",
       "      <th>2</th>\n",
       "      <td>Bullying</td>\n",
       "      <td>['suka', 'cukur', 'jembut', 'manggung']</td>\n",
       "    </tr>\n",
       "    <tr>\n",
       "      <th>3</th>\n",
       "      <td>Non-bullying</td>\n",
       "      <td>['hai', 'kakak', 'isyana', 'ngefans', 'sekali'...</td>\n",
       "    </tr>\n",
       "    <tr>\n",
       "      <th>4</th>\n",
       "      <td>Non-bullying</td>\n",
       "      <td>['manusia', 'bidadari', 'sih', 'heran', 'deh',...</td>\n",
       "    </tr>\n",
       "  </tbody>\n",
       "</table>\n",
       "</div>"
      ],
      "text/plain": [
       "       kategori                                           komentar\n",
       "0  Non-bullying  ['kakak', 'tidur', 'sudah', 'pagi', 'tidak bol...\n",
       "1  Non-bullying       ['makan', 'nasi', 'padang', 'saja', 'badan']\n",
       "2      Bullying            ['suka', 'cukur', 'jembut', 'manggung']\n",
       "3  Non-bullying  ['hai', 'kakak', 'isyana', 'ngefans', 'sekali'...\n",
       "4  Non-bullying  ['manusia', 'bidadari', 'sih', 'heran', 'deh',..."
      ]
     },
     "execution_count": 15,
     "metadata": {},
     "output_type": "execute_result"
    }
   ],
   "source": [
    "# import dataset yang telah dipreprocessing\n",
    "d_kmtr = pd.read_csv(\"Text_Preprocessing.csv\", usecols=[\"Kategori\", \"Komentar_tokens_stemmed\"])\n",
    "d_kmtr.columns = [\"kategori\", \"komentar\"]\n",
    "\n",
    "d_kmtr.head()"
   ]
  },
  {
   "cell_type": "code",
   "execution_count": 18,
   "metadata": {},
   "outputs": [
    {
     "name": "stdout",
     "output_type": "stream",
     "text": [
      "['kakak', 'tidur', 'sudah', 'pagi', 'tidak boleh', 'lelah']\n",
      "\n",
      "type :  <class 'str'>\n"
     ]
    }
   ],
   "source": [
    "#melihat tipe data pada kolom komentar\n",
    "print(d_kmtr[\"komentar\"][0])\n",
    "print(\"\\ntype : \", type(d_kmtr[\"komentar\"][0]))"
   ]
  },
  {
   "cell_type": "code",
   "execution_count": 20,
   "metadata": {},
   "outputs": [
    {
     "name": "stdout",
     "output_type": "stream",
     "text": [
      "['kakak', 'tidur', 'sudah', 'pagi', 'tidak boleh', 'lelah']\n",
      "\n",
      "type :  <class 'list'>\n"
     ]
    }
   ],
   "source": [
    "#mengubah string ke list pada kolom komentar\n",
    "import ast\n",
    "\n",
    "def convert_text_list(texts):\n",
    "    texts = ast.literal_eval(texts)\n",
    "    return [text for text in texts]\n",
    "\n",
    "d_kmtr[\"list_kmtr\"] = d_kmtr[\"komentar\"].apply(convert_text_list)\n",
    "\n",
    "\n",
    "print(d_kmtr[\"list_kmtr\"][0])\n",
    "\n",
    "print(\"\\ntype : \", type(d_kmtr[\"list_kmtr\"][0]))"
   ]
  },
  {
   "cell_type": "code",
   "execution_count": 30,
   "metadata": {},
   "outputs": [
    {
     "data": {
      "text/plain": [
       "0    {'kakak': 0.16666666666666666, 'tidur': 0.1666...\n",
       "1    {'makan': 0.2, 'nasi': 0.2, 'padang': 0.2, 'sa...\n",
       "2    {'suka': 0.25, 'cukur': 0.25, 'jembut': 0.25, ...\n",
       "3    {'hai': 0.07142857142857142, 'kakak': 0.214285...\n",
       "4    {'manusia': 0.16666666666666666, 'bidadari': 0...\n",
       "Name: TF_dict, dtype: object"
      ]
     },
     "execution_count": 30,
     "metadata": {},
     "output_type": "execute_result"
    }
   ],
   "source": [
    "#implementasi TF\n",
    "def calc_TF(document):\n",
    "    # Counts the number of times the word appears in review\n",
    "    TF_dict = {}\n",
    "    for term in document:\n",
    "        if term in TF_dict:\n",
    "            TF_dict[term] += 1\n",
    "        else:\n",
    "            TF_dict[term] = 1\n",
    "    # Computes tf for each word\n",
    "    for term in TF_dict:\n",
    "        TF_dict[term] = TF_dict[term] / len(document)\n",
    "    return TF_dict\n",
    "\n",
    "d_kmtr[\"TF_dict\"] = d_kmtr['list_kmtr'].apply(calc_TF)\n",
    "\n",
    "d_kmtr[\"TF_dict\"].head()"
   ]
  },
  {
   "cell_type": "code",
   "execution_count": 24,
   "metadata": {},
   "outputs": [
    {
     "name": "stdout",
     "output_type": "stream",
     "text": [
      "                term \t TF\n",
      "\n",
      "               kakak \t 0.16666666666666666\n",
      "               tidur \t 0.16666666666666666\n",
      "               sudah \t 0.16666666666666666\n",
      "                pagi \t 0.16666666666666666\n",
      "         tidak boleh \t 0.16666666666666666\n",
      "               lelah \t 0.16666666666666666\n"
     ]
    }
   ],
   "source": [
    "#mengecek hasil TF\n",
    "index = 0\n",
    "\n",
    "print('%20s' % \"term\", \"\\t\", \"TF\\n\")\n",
    "for key in d_kmtr[\"TF_dict\"][index]:\n",
    "    print('%20s' % key, \"\\t\", d_kmtr[\"TF_dict\"][index][key])"
   ]
  }
 ],
 "metadata": {
  "kernelspec": {
   "display_name": "Python 3",
   "language": "python",
   "name": "python3"
  },
  "language_info": {
   "codemirror_mode": {
    "name": "ipython",
    "version": 3
   },
   "file_extension": ".py",
   "mimetype": "text/x-python",
   "name": "python",
   "nbconvert_exporter": "python",
   "pygments_lexer": "ipython3",
   "version": "3.8.0"
  },
  "orig_nbformat": 4
 },
 "nbformat": 4,
 "nbformat_minor": 2
}

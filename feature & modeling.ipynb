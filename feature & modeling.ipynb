{
 "cells": [
  {
   "attachments": {},
   "cell_type": "markdown",
   "metadata": {},
   "source": [
    "# Featuring"
   ]
  },
  {
   "cell_type": "code",
   "execution_count": 58,
   "metadata": {},
   "outputs": [],
   "source": [
    "import pandas as pd \n",
    "import numpy as np"
   ]
  },
  {
   "cell_type": "code",
   "execution_count": 59,
   "metadata": {},
   "outputs": [
    {
     "data": {
      "text/html": [
       "<div>\n",
       "<style scoped>\n",
       "    .dataframe tbody tr th:only-of-type {\n",
       "        vertical-align: middle;\n",
       "    }\n",
       "\n",
       "    .dataframe tbody tr th {\n",
       "        vertical-align: top;\n",
       "    }\n",
       "\n",
       "    .dataframe thead th {\n",
       "        text-align: right;\n",
       "    }\n",
       "</style>\n",
       "<table border=\"1\" class=\"dataframe\">\n",
       "  <thead>\n",
       "    <tr style=\"text-align: right;\">\n",
       "      <th></th>\n",
       "      <th>kategori</th>\n",
       "      <th>komentar</th>\n",
       "    </tr>\n",
       "  </thead>\n",
       "  <tbody>\n",
       "    <tr>\n",
       "      <th>0</th>\n",
       "      <td>Non-bullying</td>\n",
       "      <td>['kakak', 'tidur', 'sudah', 'pagi', 'tidak bol...</td>\n",
       "    </tr>\n",
       "    <tr>\n",
       "      <th>1</th>\n",
       "      <td>Non-bullying</td>\n",
       "      <td>['makan', 'nasi', 'padang', 'saja', 'badan']</td>\n",
       "    </tr>\n",
       "    <tr>\n",
       "      <th>2</th>\n",
       "      <td>Bullying</td>\n",
       "      <td>['suka', 'cukur', 'jembut', 'manggung']</td>\n",
       "    </tr>\n",
       "    <tr>\n",
       "      <th>3</th>\n",
       "      <td>Non-bullying</td>\n",
       "      <td>['hai', 'kakak', 'isyana', 'ngefans', 'sekali'...</td>\n",
       "    </tr>\n",
       "    <tr>\n",
       "      <th>4</th>\n",
       "      <td>Non-bullying</td>\n",
       "      <td>['manusia', 'bidadari', 'sih', 'heran', 'deh',...</td>\n",
       "    </tr>\n",
       "  </tbody>\n",
       "</table>\n",
       "</div>"
      ],
      "text/plain": [
       "       kategori                                           komentar\n",
       "0  Non-bullying  ['kakak', 'tidur', 'sudah', 'pagi', 'tidak bol...\n",
       "1  Non-bullying       ['makan', 'nasi', 'padang', 'saja', 'badan']\n",
       "2      Bullying            ['suka', 'cukur', 'jembut', 'manggung']\n",
       "3  Non-bullying  ['hai', 'kakak', 'isyana', 'ngefans', 'sekali'...\n",
       "4  Non-bullying  ['manusia', 'bidadari', 'sih', 'heran', 'deh',..."
      ]
     },
     "execution_count": 59,
     "metadata": {},
     "output_type": "execute_result"
    }
   ],
   "source": [
    "# import dataset yang telah dipreprocessing\n",
    "df = pd.read_csv(\"Text_Preprocessing.csv\", usecols=[\"Kategori\", \"Komentar_tokens_stemmed\"])\n",
    "df.columns = [\"kategori\", \"komentar\"]\n",
    "\n",
    "df.head()"
   ]
  },
  {
   "attachments": {},
   "cell_type": "markdown",
   "metadata": {},
   "source": [
    "# Scikit-Learn TF-IDF Formula\n",
    "Formula untuk menghitung IDF pada Scikit-Learn berbeda, \n",
    "\n",
    "* jika parameter smooth_idf=True pada TfidfVectorizer\n",
    ">idf(t) = log [ (1 + n) / (1 + df(t)) ] + 1\n",
    "\n",
    "* sebaliknya jika smooth_idf=False\n",
    ">idf(t) = log [ n / df(t) ] + 1"
   ]
  },
  {
   "attachments": {
    "image.png": {
     "image/png": "[encoded data removed]"
    }
   },
   "cell_type": "markdown",
   "metadata": {},
   "source": [
    "# Menggunakan L2 Normalization\n",
    "Sparse matrix dengan size (n_samples, n_feature) pada Scikit-Learn akan di normalisasi ke normalizer L2 by default, dengan formula,\n",
    "![image.png](attachment:image.png)\n",
    "\n",
    "Kita dapat memilih untuk tidak menggunakan normalizer pada TfidfVectorizer dengan menambahkan parameter norm=None ."
   ]
  },
  {
   "attachments": {},
   "cell_type": "markdown",
   "metadata": {},
   "source": [
    "# Menghitung TF-IDF bigram dan trigram\n",
    "Untuk menghitung TF-IDF bigram dan trigram menggunakan Scikit-Learn, kita dapat menambahkan argument ngram_range=(min_n, max_n). \n",
    "\n",
    "min_n dan max_n merupakan batasan minimum dan maksimum ngram yang akan digunakan pada fungsi TfidfVectorizer() maupun CountVectorizer() .\n",
    "\n",
    "* ngram_range=(1,1) artinya hanya hitung TFIDF unigram,\n",
    "\n",
    "* ngram_range=(1,2) artinya hitung TFIDF unigram dan bigram,\n",
    "\n",
    "* ngram_range=(2,2) artinya hanya hitung TFIDF bigram,"
   ]
  },
  {
   "cell_type": "code",
   "execution_count": 60,
   "metadata": {},
   "outputs": [
    {
     "name": "stdout",
     "output_type": "stream",
     "text": [
      "------- TF-IDF on data -------\n",
      "TF-IDF  <class 'numpy.ndarray'> (650, 1319)\n"
     ]
    }
   ],
   "source": [
    "from sklearn.feature_extraction.text import TfidfVectorizer, CountVectorizer\n",
    "from sklearn.preprocessing import normalize\n",
    "\n",
    "# banyaknya term yang akan digunakan, \n",
    "# di pilih berdasarkan top max_features \n",
    "# yang diurutkan berdasarkan term frequency seluruh corpus\n",
    "\n",
    "# Feature Engineering \n",
    "print (\"------- TF-IDF on data -------\")\n",
    "vect = CountVectorizer(ngram_range=(1,1))\n",
    "TF_vec = vect.fit_transform(df['komentar'])\n",
    "\n",
    "norm_TF_vec = normalize(TF_vec, axis=1)\n",
    "\n",
    "tf_idf = TfidfVectorizer(binary=True, ngram_range=(1,1))\n",
    "tfs = tf_idf.fit_transform(df['komentar'])\n",
    "IDF_vec = tf_idf.idf_\n",
    "\n",
    "tfidf_mat = TF_vec.multiply(IDF_vec).toarray()\n",
    "\n",
    "\n",
    "print(\"TF-IDF \", type(tfidf_mat), tfidf_mat.shape)"
   ]
  },
  {
   "cell_type": "code",
   "execution_count": 61,
   "metadata": {},
   "outputs": [
    {
     "data": {
      "text/html": [
       "<div>\n",
       "<style scoped>\n",
       "    .dataframe tbody tr th:only-of-type {\n",
       "        vertical-align: middle;\n",
       "    }\n",
       "\n",
       "    .dataframe tbody tr th {\n",
       "        vertical-align: top;\n",
       "    }\n",
       "\n",
       "    .dataframe thead tr th {\n",
       "        text-align: left;\n",
       "    }\n",
       "</style>\n",
       "<table border=\"1\" class=\"dataframe\">\n",
       "  <thead>\n",
       "    <tr>\n",
       "      <th></th>\n",
       "      <th>aamiin</th>\n",
       "      <th>abai</th>\n",
       "      <th>abal</th>\n",
       "      <th>abu</th>\n",
       "      <th>activity</th>\n",
       "      <th>ada</th>\n",
       "      <th>adab</th>\n",
       "      <th>adam</th>\n",
       "      <th>adaptasi</th>\n",
       "      <th>adi</th>\n",
       "      <th>...</th>\n",
       "      <th>yemuke</th>\n",
       "      <th>yesus</th>\n",
       "      <th>you</th>\n",
       "      <th>younger</th>\n",
       "      <th>youtube</th>\n",
       "      <th>youtuber</th>\n",
       "      <th>yuhu</th>\n",
       "      <th>yutuber</th>\n",
       "      <th>ziu</th>\n",
       "      <th>zo</th>\n",
       "    </tr>\n",
       "  </thead>\n",
       "  <tbody>\n",
       "    <tr>\n",
       "      <th>0</th>\n",
       "      <td>0.0</td>\n",
       "      <td>0.0</td>\n",
       "      <td>0.0</td>\n",
       "      <td>0.0</td>\n",
       "      <td>0.0</td>\n",
       "      <td>0.0</td>\n",
       "      <td>0.0</td>\n",
       "      <td>0.0</td>\n",
       "      <td>0.0</td>\n",
       "      <td>0.0</td>\n",
       "      <td>...</td>\n",
       "      <td>0.0</td>\n",
       "      <td>0.0</td>\n",
       "      <td>0.0</td>\n",
       "      <td>0.0</td>\n",
       "      <td>0.0</td>\n",
       "      <td>0.0</td>\n",
       "      <td>0.0</td>\n",
       "      <td>0.0</td>\n",
       "      <td>0.0</td>\n",
       "      <td>0.0</td>\n",
       "    </tr>\n",
       "    <tr>\n",
       "      <th>1</th>\n",
       "      <td>0.0</td>\n",
       "      <td>0.0</td>\n",
       "      <td>0.0</td>\n",
       "      <td>0.0</td>\n",
       "      <td>0.0</td>\n",
       "      <td>0.0</td>\n",
       "      <td>0.0</td>\n",
       "      <td>0.0</td>\n",
       "      <td>0.0</td>\n",
       "      <td>0.0</td>\n",
       "      <td>...</td>\n",
       "      <td>0.0</td>\n",
       "      <td>0.0</td>\n",
       "      <td>0.0</td>\n",
       "      <td>0.0</td>\n",
       "      <td>0.0</td>\n",
       "      <td>0.0</td>\n",
       "      <td>0.0</td>\n",
       "      <td>0.0</td>\n",
       "      <td>0.0</td>\n",
       "      <td>0.0</td>\n",
       "    </tr>\n",
       "    <tr>\n",
       "      <th>2</th>\n",
       "      <td>0.0</td>\n",
       "      <td>0.0</td>\n",
       "      <td>0.0</td>\n",
       "      <td>0.0</td>\n",
       "      <td>0.0</td>\n",
       "      <td>0.0</td>\n",
       "      <td>0.0</td>\n",
       "      <td>0.0</td>\n",
       "      <td>0.0</td>\n",
       "      <td>0.0</td>\n",
       "      <td>...</td>\n",
       "      <td>0.0</td>\n",
       "      <td>0.0</td>\n",
       "      <td>0.0</td>\n",
       "      <td>0.0</td>\n",
       "      <td>0.0</td>\n",
       "      <td>0.0</td>\n",
       "      <td>0.0</td>\n",
       "      <td>0.0</td>\n",
       "      <td>0.0</td>\n",
       "      <td>0.0</td>\n",
       "    </tr>\n",
       "    <tr>\n",
       "      <th>3</th>\n",
       "      <td>0.0</td>\n",
       "      <td>0.0</td>\n",
       "      <td>0.0</td>\n",
       "      <td>0.0</td>\n",
       "      <td>0.0</td>\n",
       "      <td>0.0</td>\n",
       "      <td>0.0</td>\n",
       "      <td>0.0</td>\n",
       "      <td>0.0</td>\n",
       "      <td>0.0</td>\n",
       "      <td>...</td>\n",
       "      <td>0.0</td>\n",
       "      <td>0.0</td>\n",
       "      <td>0.0</td>\n",
       "      <td>0.0</td>\n",
       "      <td>0.0</td>\n",
       "      <td>0.0</td>\n",
       "      <td>0.0</td>\n",
       "      <td>0.0</td>\n",
       "      <td>0.0</td>\n",
       "      <td>0.0</td>\n",
       "    </tr>\n",
       "    <tr>\n",
       "      <th>4</th>\n",
       "      <td>0.0</td>\n",
       "      <td>0.0</td>\n",
       "      <td>0.0</td>\n",
       "      <td>0.0</td>\n",
       "      <td>0.0</td>\n",
       "      <td>0.0</td>\n",
       "      <td>0.0</td>\n",
       "      <td>0.0</td>\n",
       "      <td>0.0</td>\n",
       "      <td>0.0</td>\n",
       "      <td>...</td>\n",
       "      <td>0.0</td>\n",
       "      <td>0.0</td>\n",
       "      <td>0.0</td>\n",
       "      <td>0.0</td>\n",
       "      <td>0.0</td>\n",
       "      <td>0.0</td>\n",
       "      <td>0.0</td>\n",
       "      <td>0.0</td>\n",
       "      <td>0.0</td>\n",
       "      <td>0.0</td>\n",
       "    </tr>\n",
       "    <tr>\n",
       "      <th>...</th>\n",
       "      <td>...</td>\n",
       "      <td>...</td>\n",
       "      <td>...</td>\n",
       "      <td>...</td>\n",
       "      <td>...</td>\n",
       "      <td>...</td>\n",
       "      <td>...</td>\n",
       "      <td>...</td>\n",
       "      <td>...</td>\n",
       "      <td>...</td>\n",
       "      <td>...</td>\n",
       "      <td>...</td>\n",
       "      <td>...</td>\n",
       "      <td>...</td>\n",
       "      <td>...</td>\n",
       "      <td>...</td>\n",
       "      <td>...</td>\n",
       "      <td>...</td>\n",
       "      <td>...</td>\n",
       "      <td>...</td>\n",
       "      <td>...</td>\n",
       "    </tr>\n",
       "    <tr>\n",
       "      <th>645</th>\n",
       "      <td>0.0</td>\n",
       "      <td>0.0</td>\n",
       "      <td>0.0</td>\n",
       "      <td>0.0</td>\n",
       "      <td>0.0</td>\n",
       "      <td>0.0</td>\n",
       "      <td>0.0</td>\n",
       "      <td>0.0</td>\n",
       "      <td>0.0</td>\n",
       "      <td>0.0</td>\n",
       "      <td>...</td>\n",
       "      <td>0.0</td>\n",
       "      <td>0.0</td>\n",
       "      <td>0.0</td>\n",
       "      <td>0.0</td>\n",
       "      <td>0.0</td>\n",
       "      <td>0.0</td>\n",
       "      <td>0.0</td>\n",
       "      <td>0.0</td>\n",
       "      <td>0.0</td>\n",
       "      <td>0.0</td>\n",
       "    </tr>\n",
       "    <tr>\n",
       "      <th>646</th>\n",
       "      <td>0.0</td>\n",
       "      <td>0.0</td>\n",
       "      <td>0.0</td>\n",
       "      <td>0.0</td>\n",
       "      <td>0.0</td>\n",
       "      <td>0.0</td>\n",
       "      <td>0.0</td>\n",
       "      <td>0.0</td>\n",
       "      <td>0.0</td>\n",
       "      <td>0.0</td>\n",
       "      <td>...</td>\n",
       "      <td>0.0</td>\n",
       "      <td>0.0</td>\n",
       "      <td>0.0</td>\n",
       "      <td>0.0</td>\n",
       "      <td>0.0</td>\n",
       "      <td>0.0</td>\n",
       "      <td>0.0</td>\n",
       "      <td>0.0</td>\n",
       "      <td>0.0</td>\n",
       "      <td>0.0</td>\n",
       "    </tr>\n",
       "    <tr>\n",
       "      <th>647</th>\n",
       "      <td>0.0</td>\n",
       "      <td>0.0</td>\n",
       "      <td>0.0</td>\n",
       "      <td>0.0</td>\n",
       "      <td>0.0</td>\n",
       "      <td>0.0</td>\n",
       "      <td>0.0</td>\n",
       "      <td>0.0</td>\n",
       "      <td>0.0</td>\n",
       "      <td>0.0</td>\n",
       "      <td>...</td>\n",
       "      <td>0.0</td>\n",
       "      <td>0.0</td>\n",
       "      <td>0.0</td>\n",
       "      <td>0.0</td>\n",
       "      <td>0.0</td>\n",
       "      <td>0.0</td>\n",
       "      <td>0.0</td>\n",
       "      <td>0.0</td>\n",
       "      <td>0.0</td>\n",
       "      <td>0.0</td>\n",
       "    </tr>\n",
       "    <tr>\n",
       "      <th>648</th>\n",
       "      <td>0.0</td>\n",
       "      <td>0.0</td>\n",
       "      <td>0.0</td>\n",
       "      <td>0.0</td>\n",
       "      <td>0.0</td>\n",
       "      <td>0.0</td>\n",
       "      <td>0.0</td>\n",
       "      <td>0.0</td>\n",
       "      <td>0.0</td>\n",
       "      <td>0.0</td>\n",
       "      <td>...</td>\n",
       "      <td>0.0</td>\n",
       "      <td>0.0</td>\n",
       "      <td>0.0</td>\n",
       "      <td>0.0</td>\n",
       "      <td>0.0</td>\n",
       "      <td>0.0</td>\n",
       "      <td>0.0</td>\n",
       "      <td>0.0</td>\n",
       "      <td>0.0</td>\n",
       "      <td>0.0</td>\n",
       "    </tr>\n",
       "    <tr>\n",
       "      <th>649</th>\n",
       "      <td>0.0</td>\n",
       "      <td>0.0</td>\n",
       "      <td>0.0</td>\n",
       "      <td>0.0</td>\n",
       "      <td>0.0</td>\n",
       "      <td>0.0</td>\n",
       "      <td>0.0</td>\n",
       "      <td>0.0</td>\n",
       "      <td>0.0</td>\n",
       "      <td>0.0</td>\n",
       "      <td>...</td>\n",
       "      <td>0.0</td>\n",
       "      <td>0.0</td>\n",
       "      <td>0.0</td>\n",
       "      <td>0.0</td>\n",
       "      <td>0.0</td>\n",
       "      <td>0.0</td>\n",
       "      <td>0.0</td>\n",
       "      <td>0.0</td>\n",
       "      <td>0.0</td>\n",
       "      <td>0.0</td>\n",
       "    </tr>\n",
       "  </tbody>\n",
       "</table>\n",
       "<p>650 rows × 1319 columns</p>\n",
       "</div>"
      ],
      "text/plain": [
       "    aamiin abai abal  abu activity  ada adab adam adaptasi  adi  ... yemuke  \\\n",
       "0      0.0  0.0  0.0  0.0      0.0  0.0  0.0  0.0      0.0  0.0  ...    0.0   \n",
       "1      0.0  0.0  0.0  0.0      0.0  0.0  0.0  0.0      0.0  0.0  ...    0.0   \n",
       "2      0.0  0.0  0.0  0.0      0.0  0.0  0.0  0.0      0.0  0.0  ...    0.0   \n",
       "3      0.0  0.0  0.0  0.0      0.0  0.0  0.0  0.0      0.0  0.0  ...    0.0   \n",
       "4      0.0  0.0  0.0  0.0      0.0  0.0  0.0  0.0      0.0  0.0  ...    0.0   \n",
       "..     ...  ...  ...  ...      ...  ...  ...  ...      ...  ...  ...    ...   \n",
       "645    0.0  0.0  0.0  0.0      0.0  0.0  0.0  0.0      0.0  0.0  ...    0.0   \n",
       "646    0.0  0.0  0.0  0.0      0.0  0.0  0.0  0.0      0.0  0.0  ...    0.0   \n",
       "647    0.0  0.0  0.0  0.0      0.0  0.0  0.0  0.0      0.0  0.0  ...    0.0   \n",
       "648    0.0  0.0  0.0  0.0      0.0  0.0  0.0  0.0      0.0  0.0  ...    0.0   \n",
       "649    0.0  0.0  0.0  0.0      0.0  0.0  0.0  0.0      0.0  0.0  ...    0.0   \n",
       "\n",
       "    yesus  you younger youtube youtuber yuhu yutuber  ziu   zo  \n",
       "0     0.0  0.0     0.0     0.0      0.0  0.0     0.0  0.0  0.0  \n",
       "1     0.0  0.0     0.0     0.0      0.0  0.0     0.0  0.0  0.0  \n",
       "2     0.0  0.0     0.0     0.0      0.0  0.0     0.0  0.0  0.0  \n",
       "3     0.0  0.0     0.0     0.0      0.0  0.0     0.0  0.0  0.0  \n",
       "4     0.0  0.0     0.0     0.0      0.0  0.0     0.0  0.0  0.0  \n",
       "..    ...  ...     ...     ...      ...  ...     ...  ...  ...  \n",
       "645   0.0  0.0     0.0     0.0      0.0  0.0     0.0  0.0  0.0  \n",
       "646   0.0  0.0     0.0     0.0      0.0  0.0     0.0  0.0  0.0  \n",
       "647   0.0  0.0     0.0     0.0      0.0  0.0     0.0  0.0  0.0  \n",
       "648   0.0  0.0     0.0     0.0      0.0  0.0     0.0  0.0  0.0  \n",
       "649   0.0  0.0     0.0     0.0      0.0  0.0     0.0  0.0  0.0  \n",
       "\n",
       "[650 rows x 1319 columns]"
      ]
     },
     "execution_count": 61,
     "metadata": {},
     "output_type": "execute_result"
    }
   ],
   "source": [
    "# Visualisasi tabel\n",
    "a = tf_idf.get_feature_names()\n",
    "tf_tb = norm_TF_vec.multiply(IDF_vec).toarray()\n",
    "dfbtf =pd.DataFrame(data=tfidf_mat,columns=[a])\n",
    "dfbtf\n"
   ]
  },
  {
   "cell_type": "code",
   "execution_count": 62,
   "metadata": {},
   "outputs": [
    {
     "data": {
      "text/html": [
       "<div>\n",
       "<style scoped>\n",
       "    .dataframe tbody tr th:only-of-type {\n",
       "        vertical-align: middle;\n",
       "    }\n",
       "\n",
       "    .dataframe tbody tr th {\n",
       "        vertical-align: top;\n",
       "    }\n",
       "\n",
       "    .dataframe thead th {\n",
       "        text-align: right;\n",
       "    }\n",
       "</style>\n",
       "<table border=\"1\" class=\"dataframe\">\n",
       "  <thead>\n",
       "    <tr style=\"text-align: right;\">\n",
       "      <th></th>\n",
       "      <th>term</th>\n",
       "      <th>rank</th>\n",
       "    </tr>\n",
       "  </thead>\n",
       "  <tbody>\n",
       "    <tr>\n",
       "      <th>551</th>\n",
       "      <td>kamu</td>\n",
       "      <td>393.868678</td>\n",
       "    </tr>\n",
       "    <tr>\n",
       "      <th>47</th>\n",
       "      <td>anjing</td>\n",
       "      <td>270.497161</td>\n",
       "    </tr>\n",
       "    <tr>\n",
       "      <th>1164</th>\n",
       "      <td>sudah</td>\n",
       "      <td>263.315155</td>\n",
       "    </tr>\n",
       "    <tr>\n",
       "      <th>1053</th>\n",
       "      <td>saja</td>\n",
       "      <td>260.071868</td>\n",
       "    </tr>\n",
       "    <tr>\n",
       "      <th>537</th>\n",
       "      <td>kakak</td>\n",
       "      <td>258.401152</td>\n",
       "    </tr>\n",
       "    <tr>\n",
       "      <th>...</th>\n",
       "      <td>...</td>\n",
       "      <td>...</td>\n",
       "    </tr>\n",
       "    <tr>\n",
       "      <th>672</th>\n",
       "      <td>laura</td>\n",
       "      <td>6.785362</td>\n",
       "    </tr>\n",
       "    <tr>\n",
       "      <th>673</th>\n",
       "      <td>laut</td>\n",
       "      <td>6.785362</td>\n",
       "    </tr>\n",
       "    <tr>\n",
       "      <th>674</th>\n",
       "      <td>lawan</td>\n",
       "      <td>6.785362</td>\n",
       "    </tr>\n",
       "    <tr>\n",
       "      <th>676</th>\n",
       "      <td>lebay</td>\n",
       "      <td>6.785362</td>\n",
       "    </tr>\n",
       "    <tr>\n",
       "      <th>1318</th>\n",
       "      <td>zo</td>\n",
       "      <td>6.785362</td>\n",
       "    </tr>\n",
       "  </tbody>\n",
       "</table>\n",
       "<p>1319 rows × 2 columns</p>\n",
       "</div>"
      ],
      "text/plain": [
       "        term        rank\n",
       "551     kamu  393.868678\n",
       "47    anjing  270.497161\n",
       "1164   sudah  263.315155\n",
       "1053    saja  260.071868\n",
       "537    kakak  258.401152\n",
       "...      ...         ...\n",
       "672    laura    6.785362\n",
       "673     laut    6.785362\n",
       "674    lawan    6.785362\n",
       "676    lebay    6.785362\n",
       "1318      zo    6.785362\n",
       "\n",
       "[1319 rows x 2 columns]"
      ]
     },
     "execution_count": 62,
     "metadata": {},
     "output_type": "execute_result"
    }
   ],
   "source": [
    "#menampilkan hasil term dengan TF-IDF terbesar\n",
    "terms = tf_idf.get_feature_names()\n",
    "\n",
    "# sum tfidf frequency of each term through documents\n",
    "sums = tfidf_mat.sum(axis=0)\n",
    "\n",
    "# connecting term to its sums frequency\n",
    "data = []\n",
    "for col, term in enumerate(terms):\n",
    "    data.append((term, sums[col] ))\n",
    "\n",
    "ranking = pd.DataFrame(data, columns=['term','rank'])\n",
    "ranking.sort_values('rank', ascending=False)"
   ]
  },
  {
   "attachments": {},
   "cell_type": "markdown",
   "metadata": {},
   "source": [
    "# Modeling"
   ]
  },
  {
   "cell_type": "code",
   "execution_count": 63,
   "metadata": {},
   "outputs": [
    {
     "name": "stdout",
     "output_type": "stream",
     "text": [
      "Data distribution:\n",
      "- Train: 520 \n",
      "- Validation: 65 \n",
      "- Test: 65\n"
     ]
    }
   ],
   "source": [
    "# membagi data ke training and testing sets\n",
    "X = tfidf_mat\n",
    "y = df['kategori']\n",
    "from sklearn.model_selection import train_test_split\n",
    "X_train, X_test, y_train, y_test = train_test_split(X, y, test_size=0.2, random_state=42)\n",
    "X_val, X_test, y_val, y_test = train_test_split(X_test,y_test,test_size = 0.5, random_state=42)\n",
    "\n",
    "print(\"Data distribution:\\n- Train: {} \\n- Validation: {} \\n- Test: {}\".format(len(y_train),len(y_val),len(y_test)))"
   ]
  },
  {
   "cell_type": "code",
   "execution_count": 64,
   "metadata": {},
   "outputs": [
    {
     "data": {
      "text/plain": [
       "LogisticRegression()"
      ]
     },
     "execution_count": 64,
     "metadata": {},
     "output_type": "execute_result"
    }
   ],
   "source": [
    "from sklearn.linear_model import LogisticRegression\n",
    "from sklearn.metrics import accuracy_score\n",
    "\n",
    "# train a Logistic Regression Model\n",
    "clf = LogisticRegression()\n",
    "\n",
    "clf.fit(X_train, y_train)"
   ]
  },
  {
   "cell_type": "code",
   "execution_count": 65,
   "metadata": {},
   "outputs": [
    {
     "data": {
      "text/plain": [
       "array(['Bullying', 'Non-bullying', 'Bullying', 'Bullying', 'Non-bullying',\n",
       "       'Bullying', 'Non-bullying', 'Bullying', 'Non-bullying', 'Bullying',\n",
       "       'Non-bullying', 'Non-bullying', 'Bullying', 'Non-bullying',\n",
       "       'Bullying', 'Non-bullying', 'Bullying', 'Bullying', 'Bullying',\n",
       "       'Bullying', 'Bullying', 'Non-bullying', 'Bullying', 'Bullying',\n",
       "       'Bullying', 'Non-bullying', 'Non-bullying', 'Non-bullying',\n",
       "       'Bullying', 'Bullying', 'Bullying', 'Non-bullying', 'Non-bullying',\n",
       "       'Non-bullying', 'Non-bullying', 'Bullying', 'Non-bullying',\n",
       "       'Bullying', 'Bullying', 'Bullying', 'Bullying', 'Non-bullying',\n",
       "       'Non-bullying', 'Non-bullying', 'Non-bullying', 'Non-bullying',\n",
       "       'Bullying', 'Non-bullying', 'Bullying', 'Non-bullying',\n",
       "       'Non-bullying', 'Non-bullying', 'Non-bullying', 'Non-bullying',\n",
       "       'Bullying', 'Non-bullying', 'Non-bullying', 'Bullying', 'Bullying',\n",
       "       'Bullying', 'Bullying', 'Bullying', 'Non-bullying', 'Non-bullying',\n",
       "       'Non-bullying'], dtype=object)"
      ]
     },
     "execution_count": 65,
     "metadata": {},
     "output_type": "execute_result"
    }
   ],
   "source": [
    "# evaluate the classifier on the test set\n",
    "y_pred = clf.predict(X_test)\n",
    "y_pred"
   ]
  },
  {
   "cell_type": "code",
   "execution_count": 66,
   "metadata": {},
   "outputs": [
    {
     "name": "stdout",
     "output_type": "stream",
     "text": [
      "Accuracy - : 0.8769230769230769\n"
     ]
    }
   ],
   "source": [
    "# Check Accuracy\n",
    "acc = accuracy_score(y_test, y_pred)\n",
    "print (f'Accuracy - :', acc)"
   ]
  },
  {
   "cell_type": "code",
   "execution_count": 67,
   "metadata": {},
   "outputs": [
    {
     "name": "stdout",
     "output_type": "stream",
     "text": [
      "              precision    recall  f1-score   support\n",
      "\n",
      "    Bullying       0.88      0.88      0.88        32\n",
      "Non-bullying       0.88      0.88      0.88        33\n",
      "\n",
      "    accuracy                           0.88        65\n",
      "   macro avg       0.88      0.88      0.88        65\n",
      "weighted avg       0.88      0.88      0.88        65\n",
      "\n"
     ]
    }
   ],
   "source": [
    "from sklearn.metrics import classification_report\n",
    "report = classification_report(y_test, y_pred)\n",
    "print(report)"
   ]
  },
  {
   "attachments": {},
   "cell_type": "markdown",
   "metadata": {},
   "source": [
    "# Hyperparameter Tuning\n",
    "* digunakan untuk memperbaiki performa model machine learning\n",
    "* dilakukan dengan mencoba berbagai nilai hyperparameter dari suatu model machine learning"
   ]
  },
  {
   "attachments": {},
   "cell_type": "markdown",
   "metadata": {},
   "source": [
    "## More on Hyperparameters\n",
    "* Solver: https://towardsdatascience.com/dont-sweat-the-solver-stuff-aea7cddc3451\n",
    "* L1 and L2 Regularisation: https://towardsdatascience.com/l1-and-l2-regularization-methods-ce25e7fc831c\n",
    "* Slearn Logistic Regression: https://scikit-learn.org/stable/modules/generated/sklearn.linear_model.LogisticRegression.html"
   ]
  },
  {
   "cell_type": "code",
   "execution_count": 68,
   "metadata": {},
   "outputs": [],
   "source": [
    "from sklearn.model_selection import GridSearchCV\n",
    "\n",
    "logModel = LogisticRegression()\n",
    "param_grid = [    \n",
    "    {'penalty' : ['l1'], # other option : 'l2', 'elasticnet', 'none'\n",
    "    'C' : np.logspace(-4, 4, 20),\n",
    "    'solver' : ['lbfgs','newton-cg','liblinear','sag','saga'],\n",
    "    'max_iter' : [5000] # other option : 100, 1000,2500\n",
    "    }\n",
    "]\n",
    "\n",
    "cv = GridSearchCV(logModel, param_grid = param_grid, cv = 3, verbose=True, n_jobs=-1)"
   ]
  },
  {
   "cell_type": "code",
   "execution_count": 69,
   "metadata": {},
   "outputs": [
    {
     "name": "stdout",
     "output_type": "stream",
     "text": [
      "Fitting 3 folds for each of 100 candidates, totalling 300 fits\n"
     ]
    },
    {
     "name": "stderr",
     "output_type": "stream",
     "text": [
      "[Parallel(n_jobs=-1)]: Using backend LokyBackend with 16 concurrent workers.\n",
      "[Parallel(n_jobs=-1)]: Done  18 tasks      | elapsed:    2.2s\n",
      "[Parallel(n_jobs=-1)]: Done 269 out of 300 | elapsed:   25.5s remaining:    2.8s\n",
      "[Parallel(n_jobs=-1)]: Done 300 out of 300 | elapsed:   37.8s finished\n"
     ]
    }
   ],
   "source": [
    "best = cv.fit(X_train,y_train)"
   ]
  },
  {
   "cell_type": "code",
   "execution_count": 70,
   "metadata": {},
   "outputs": [
    {
     "data": {
      "text/plain": [
       "LogisticRegression(C=3792.690190732246, max_iter=5000, penalty='l1',\n",
       "                   solver='saga')"
      ]
     },
     "execution_count": 70,
     "metadata": {},
     "output_type": "execute_result"
    }
   ],
   "source": [
    "cv.best_estimator_"
   ]
  },
  {
   "cell_type": "code",
   "execution_count": 71,
   "metadata": {},
   "outputs": [
    {
     "name": "stdout",
     "output_type": "stream",
     "text": [
      "Accuracy - : 0.9738461538461538\n"
     ]
    }
   ],
   "source": [
    "# Check Accuracy\n",
    "best = cv.score(X,y)\n",
    "print (f'Accuracy - :', best)"
   ]
  },
  {
   "cell_type": "code",
   "execution_count": 77,
   "metadata": {},
   "outputs": [],
   "source": [
    "# save model\n",
    "import pickle\n",
    "  \n",
    "  \n",
    "# Save the model as a pickle in a file\n",
    "filename = 'model.pkl'\n",
    "with open(filename, 'wb') as file:\n",
    "    pickle.dump(cv, file)"
   ]
  },
  {
   "cell_type": "code",
   "execution_count": 78,
   "metadata": {},
   "outputs": [],
   "source": [
    "#Loading model to compare the results\n",
    "with open('model.pkl', 'rb') as file:\n",
    "    loaded_model = pickle.load(file)"
   ]
  },
  {
   "cell_type": "code",
   "execution_count": 79,
   "metadata": {},
   "outputs": [
    {
     "name": "stdout",
     "output_type": "stream",
     "text": [
      "Prediction: ['Bullying' 'Non-bullying' 'Bullying' 'Bullying' 'Non-bullying' 'Bullying'\n",
      " 'Non-bullying' 'Bullying' 'Non-bullying' 'Bullying' 'Non-bullying'\n",
      " 'Non-bullying' 'Bullying' 'Non-bullying' 'Bullying' 'Non-bullying'\n",
      " 'Bullying' 'Bullying' 'Bullying' 'Bullying' 'Bullying' 'Non-bullying'\n",
      " 'Bullying' 'Bullying' 'Bullying' 'Non-bullying' 'Non-bullying'\n",
      " 'Non-bullying' 'Bullying' 'Bullying' 'Bullying' 'Non-bullying'\n",
      " 'Non-bullying' 'Non-bullying' 'Non-bullying' 'Bullying' 'Non-bullying'\n",
      " 'Bullying' 'Bullying' 'Bullying' 'Bullying' 'Non-bullying' 'Non-bullying'\n",
      " 'Non-bullying' 'Non-bullying' 'Non-bullying' 'Bullying' 'Non-bullying'\n",
      " 'Bullying' 'Non-bullying' 'Non-bullying' 'Non-bullying' 'Non-bullying'\n",
      " 'Non-bullying' 'Bullying' 'Non-bullying' 'Non-bullying' 'Bullying'\n",
      " 'Bullying' 'Bullying' 'Bullying' 'Bullying' 'Non-bullying' 'Non-bullying'\n",
      " 'Non-bullying']\n"
     ]
    }
   ],
   "source": [
    "prediction = loaded_model.predict(X_test)\n",
    "print(\"Prediction:\", prediction)"
   ]
  }
 ],
 "metadata": {
  "kernelspec": {
   "display_name": "Python 3",
   "language": "python",
   "name": "python3"
  },
  "language_info": {
   "codemirror_mode": {
    "name": "ipython",
    "version": 3
   },
   "file_extension": ".py",
   "mimetype": "text/x-python",
   "name": "python",
   "nbconvert_exporter": "python",
   "pygments_lexer": "ipython3",
   "version": "3.8.0"
  },
  "orig_nbformat": 4
 },
 "nbformat": 4,
 "nbformat_minor": 2
}

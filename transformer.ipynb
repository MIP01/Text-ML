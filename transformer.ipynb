{
 "cells": [
  {
   "attachments": {},
   "cell_type": "markdown",
   "metadata": {},
   "source": [
    "# Transformer\n",
    "akan menghasilkan Transformer.pkl, yaitu file yang berisi objek transformer yang telah dilatih pada data training untuk melakukan preprocessing atau feature extraction pada data yang akan diprediksi"
   ]
  },
  {
   "cell_type": "code",
   "execution_count": 2,
   "metadata": {},
   "outputs": [],
   "source": [
    "import pandas as pd\n",
    "import numpy as np"
   ]
  },
  {
   "cell_type": "code",
   "execution_count": 12,
   "metadata": {},
   "outputs": [
    {
     "name": "stdout",
     "output_type": "stream",
     "text": [
      "TF-IDF  <class 'numpy.ndarray'> (650, 1319)\n"
     ]
    }
   ],
   "source": [
    "from sklearn.feature_extraction.text import TfidfVectorizer, CountVectorizer\n",
    "from sklearn.preprocessing import normalize\n",
    "import pickle\n",
    "\n",
    "# Load text data\n",
    "text_data =  pd.read_csv(\"Text_Preprocessing.csv\")\n",
    "\n",
    "# Mengambil kolom teks yang ingin digunakan\n",
    "teks_column = text_data[\"Komentar_tokens_stemmed\"]\n",
    "\n",
    "# mendapatkan TF\n",
    "vect = CountVectorizer(ngram_range=(1,1))\n",
    "TF_vec = vect.fit_transform(teks_column)\n",
    "\n",
    "# normalisasi pada vektor TF\n",
    "# Hal ini dilakukan untuk memastikan bahwa vektor memiliki panjang Euclidean yang sama.\n",
    "norm_TF_vec = normalize(TF_vec, axis=1)\n",
    "\n",
    "# Menghitung TF-IDF\n",
    "tf_idf = TfidfVectorizer(binary=True, ngram_range=(1,1), smooth_idf=True)\n",
    "tfs = tf_idf.fit_transform(teks_column)\n",
    "IDF_vec = tf_idf.idf_\n",
    "\n",
    "tfidf_mat = tfs.multiply(IDF_vec).toarray()\n",
    "\n",
    "# Save TfidfVectorizer object to file using pickle\n",
    "with open('transformer.pkl', 'wb') as file:\n",
    "    pickle.dump(tf_idf, file)\n",
    "    \n",
    "print(\"TF-IDF \", type(tfidf_mat), tfidf_mat.shape)"
   ]
  }
 ],
 "metadata": {
  "kernelspec": {
   "display_name": "Python 3",
   "language": "python",
   "name": "python3"
  },
  "language_info": {
   "codemirror_mode": {
    "name": "ipython",
    "version": 3
   },
   "file_extension": ".py",
   "mimetype": "text/x-python",
   "name": "python",
   "nbconvert_exporter": "python",
   "pygments_lexer": "ipython3",
   "version": "3.8.0"
  },
  "orig_nbformat": 4
 },
 "nbformat": 4,
 "nbformat_minor": 2
}

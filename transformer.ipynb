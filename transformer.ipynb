{
 "cells": [
  {
   "attachments": {},
   "cell_type": "markdown",
   "metadata": {},
   "source": [
    "# Transformer\n",
    "akan menghasilkan Transformer.pkl, yaitu file yang berisi objek transformer yang telah dilatih pada data training untuk melakukan preprocessing atau feature extraction pada data yang akan diprediksi"
   ]
  },
  {
   "cell_type": "code",
   "execution_count": 1,
   "metadata": {},
   "outputs": [],
   "source": [
    "import pandas as pd\n",
    "import numpy as np"
   ]
  },
  {
   "cell_type": "code",
   "execution_count": 17,
   "metadata": {},
   "outputs": [
    {
     "name": "stdout",
     "output_type": "stream",
     "text": [
      "TF-IDF  <class 'scipy.sparse.csr.csr_matrix'> (650, 1319)\n"
     ]
    }
   ],
   "source": [
    "from sklearn.feature_extraction.text import TfidfVectorizer\n",
    "import pickle\n",
    "\n",
    "# Load text data\n",
    "text_data =  pd.read_csv(\"Text_Preprocessing.csv\", usecols=[\"Komentar_tokens_stemmed\"])\n",
    "text_data.columns = [\"komentar\"]\n",
    "\n",
    "# Create TfidfVectorizer object for feature extraction\n",
    "vectorizer = TfidfVectorizer()\n",
    "\n",
    "# Fit TfidfVectorizer to text data and transform text data to numerical features\n",
    "numerical_data = vectorizer.fit_transform(text_data['komentar'])\n",
    "\n",
    "# Save TfidfVectorizer object to file using pickle\n",
    "with open('transformer.pkl', 'wb') as file:\n",
    "    pickle.dump(vectorizer, file)\n",
    "    \n",
    "print(\"TF-IDF \", type(numerical_data), numerical_data.shape)"
   ]
  }
 ],
 "metadata": {
  "kernelspec": {
   "display_name": "Python 3",
   "language": "python",
   "name": "python3"
  },
  "language_info": {
   "codemirror_mode": {
    "name": "ipython",
    "version": 3
   },
   "file_extension": ".py",
   "mimetype": "text/x-python",
   "name": "python",
   "nbconvert_exporter": "python",
   "pygments_lexer": "ipython3",
   "version": "3.8.0"
  },
  "orig_nbformat": 4
 },
 "nbformat": 4,
 "nbformat_minor": 2
}

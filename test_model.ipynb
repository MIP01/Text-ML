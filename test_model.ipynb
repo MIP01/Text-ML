{
 "cells": [
  {
   "attachments": {},
   "cell_type": "markdown",
   "metadata": {},
   "source": [
    "# Test Pre-Train Model\n",
    "mengetes model yang telah dibuat dengan input custom"
   ]
  },
  {
   "cell_type": "code",
   "execution_count": 1,
   "metadata": {},
   "outputs": [],
   "source": [
    "import pandas as pd \n",
    "import numpy as np\n",
    "import pickle"
   ]
  },
  {
   "cell_type": "code",
   "execution_count": 2,
   "metadata": {},
   "outputs": [],
   "source": [
    "#Loading model to compare the results\n",
    "with open('model.pkl', 'rb') as file:\n",
    "    loaded_model = pickle.load(file)"
   ]
  },
  {
   "cell_type": "code",
   "execution_count": 3,
   "metadata": {},
   "outputs": [],
   "source": [
    "# Load transformer from file using pickle\n",
    "with open('transformer.pkl', 'rb') as file:\n",
    "    transformer = pickle.load(file)"
   ]
  },
  {
   "cell_type": "code",
   "execution_count": 49,
   "metadata": {},
   "outputs": [],
   "source": [
    "# Load test data\n",
    "text_input = \"Itu lemon bisa diganti ryzen gak? Lebih pantes soalnya\""
   ]
  },
  {
   "cell_type": "code",
   "execution_count": 50,
   "metadata": {},
   "outputs": [],
   "source": [
    "# transtorm text_input menjadi scalar\n",
    "numerical_input = transformer.transform([text_input])\n",
    "\n",
    "# mengubah numerical_input menjadi 2D array\n",
    "# perubahan dilakukan karena model machine learning yang digunakan \n",
    "# membutuhkan data input dalam bentuk array 2 dimensi\n",
    "test_data_reshaped = np.reshape(numerical_input, (1, -1))"
   ]
  },
  {
   "cell_type": "code",
   "execution_count": 51,
   "metadata": {},
   "outputs": [
    {
     "name": "stdout",
     "output_type": "stream",
     "text": [
      "Prediction: ['Bullying']\n"
     ]
    }
   ],
   "source": [
    "# Menampilkan hasil prediction\n",
    "prediction = loaded_model.predict(test_data_reshaped)\n",
    "print(\"Prediction:\", prediction)"
   ]
  }
 ],
 "metadata": {
  "kernelspec": {
   "display_name": "Python 3",
   "language": "python",
   "name": "python3"
  },
  "language_info": {
   "codemirror_mode": {
    "name": "ipython",
    "version": 3
   },
   "file_extension": ".py",
   "mimetype": "text/x-python",
   "name": "python",
   "nbconvert_exporter": "python",
   "pygments_lexer": "ipython3",
   "version": "3.8.0"
  },
  "orig_nbformat": 4
 },
 "nbformat": 4,
 "nbformat_minor": 2
}
